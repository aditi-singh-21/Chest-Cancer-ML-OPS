{
 "cells": [
  {
   "cell_type": "code",
   "execution_count": 147,
   "metadata": {},
   "outputs": [],
   "source": [
    "import os"
   ]
  },
  {
   "cell_type": "code",
   "execution_count": 148,
   "metadata": {},
   "outputs": [
    {
     "data": {
      "text/plain": [
       "'C:\\\\Users\\\\aditi\\\\OneDrive\\\\Desktop\\\\Chest-Cancer-ML-OPS'"
      ]
     },
     "execution_count": 148,
     "metadata": {},
     "output_type": "execute_result"
    }
   ],
   "source": [
    "%pwd"
   ]
  },
  {
   "cell_type": "code",
   "execution_count": 149,
   "metadata": {},
   "outputs": [],
   "source": [
    "new_directory = r\"C:\\Users\\aditi\\OneDrive\\Desktop\\Chest-Cancer-ML-OPS\"\n",
    "\n",
    "# Change the current working directory\n",
    "os.chdir(new_directory)"
   ]
  },
  {
   "cell_type": "code",
   "execution_count": 150,
   "metadata": {},
   "outputs": [
    {
     "name": "stdout",
     "output_type": "stream",
     "text": [
      "C:\\Users\\aditi\\OneDrive\\Desktop\\Chest-Cancer-ML-OPS\\config\\config.yaml exists!\n",
      "C:\\Users\\aditi\\OneDrive\\Desktop\\Chest-Cancer-ML-OPS\\params.yaml exists!\n"
     ]
    }
   ],
   "source": [
    "from pathlib import Path\n",
    "\n",
    "config_file_path = Path(r\"C:\\Users\\aditi\\OneDrive\\Desktop\\Chest-Cancer-ML-OPS\\config\\config.yaml\")\n",
    "params_file_path = Path(r\"C:\\Users\\aditi\\OneDrive\\Desktop\\Chest-Cancer-ML-OPS\\params.yaml\")\n",
    "\n",
    "# Check if the config file exists\n",
    "if config_file_path.exists():\n",
    "    print(f\"{config_file_path} exists!\")\n",
    "else:\n",
    "    print(f\"{config_file_path} does NOT exist!\")\n",
    "\n",
    "# Check if the params file exists\n",
    "if params_file_path.exists():\n",
    "    print(f\"{params_file_path} exists!\")\n",
    "else:\n",
    "    print(f\"{params_file_path} does NOT exist!\")\n"
   ]
  },
  {
   "cell_type": "code",
   "execution_count": 151,
   "metadata": {},
   "outputs": [],
   "source": [
    "from dataclasses import dataclass\n",
    "from pathlib import Path\n",
    "\n",
    "@dataclass(frozen = True)\n",
    "class DataIngestionConfig:\n",
    "    root_dir : Path\n",
    "    source_url : str\n",
    "    local_data_file : Path\n",
    "    unzip_dir : Path"
   ]
  },
  {
   "cell_type": "code",
   "execution_count": 152,
   "metadata": {},
   "outputs": [],
   "source": [
    "from chest_cancer_classifier.constants import *\n",
    "from chest_cancer_classifier.utils.common import read_yaml,create_dir"
   ]
  },
  {
   "cell_type": "code",
   "execution_count": 153,
   "metadata": {},
   "outputs": [],
   "source": [
    "class ConfigManager:\n",
    "    def __init__(\n",
    "        self,\n",
    "        config_filepath = CONFIG_FILE_PATH,\n",
    "        param_filepath = PARAMS_FILE_PATH):\n",
    "        print(type(config_filepath))\n",
    "        self.config = read_yaml(config_filepath)\n",
    "        self.params = read_yaml(param_filepath)\n",
    "        \n",
    "        create_dir([self.config.artifacts_root])\n",
    "    \n",
    "    def get_data_ingestion_config(self) -> DataIngestionConfig:\n",
    "        config = self.config.data_ingestion\n",
    "        \n",
    "        create_dir([config.root_dir])\n",
    "        \n",
    "        data_ingestion_config = DataIngestionConfig(\n",
    "            root_dir = config.root_dir,\n",
    "            source_url = config.source_url,\n",
    "            local_data_file = config.local_data_file,\n",
    "            unzip_dir = config.unzip_dir\n",
    "        )\n",
    "        \n",
    "        return data_ingestion_config"
   ]
  },
  {
   "cell_type": "code",
   "execution_count": 154,
   "metadata": {},
   "outputs": [],
   "source": [
    "import os \n",
    "import urllib.request as request\n",
    "import zipfile\n",
    "import gdown\n",
    "from chest_cancer_classifier import logger\n",
    "from chest_cancer_classifier.utils.common import get_size\n"
   ]
  },
  {
   "cell_type": "code",
   "execution_count": 155,
   "metadata": {},
   "outputs": [],
   "source": [
    "class DataIngestion:\n",
    "    def __init__(self,config:DataIngestionConfig):\n",
    "        self.config = config\n",
    "        \n",
    "    def download_file(self) -> str:\n",
    "        try:\n",
    "            dataset_url = self.config.source_url\n",
    "            zip_download_dir = self.config.local_data_file\n",
    "            os.makedirs(\"artifacts/dataingestion\",exist_ok = True)\n",
    "            logger.info(f\"Downloading dat from {dataset_url} into file {zip_download_dir}\")\n",
    "            \n",
    "            file_id = dataset_url.split('/')[-2]\n",
    "            prefix = \"https://drive.google.com/uc?/export=download&id=\"\n",
    "            gdown.download(prefix + file_id , \"archive(6).zip\")\n",
    "            \n",
    "            logger.info(f\"Downloaded data from {dataset_url} into file {zip_download_dir}\")\n",
    "            \n",
    "        except Exception as e:\n",
    "            raise e\n",
    "        \n",
    "    def extract_zip_file(self):\n",
    "        unzip_path = self.config.unzip_dir\n",
    "        os.makedirs(unzip_path,exist_ok=True)\n",
    "        with zipfile.ZipFile(self.config.local_data_file,'r') as zip_file:\n",
    "            zip_file.extractall(unzip_path)"
   ]
  },
  {
   "cell_type": "code",
   "execution_count": 156,
   "metadata": {},
   "outputs": [
    {
     "name": "stdout",
     "output_type": "stream",
     "text": [
      "<class 'pathlib.WindowsPath'>\n",
      "[2024-08-31 00:20:49,380 INFO : common : YAML file config\\config.yaml successfully loaded]\n",
      "[2024-08-31 00:20:49,382 INFO : common : YAML file params.yaml successfully loaded]\n",
      "[2024-08-31 00:20:49,383 INFO : common : Created Directory at : artifacts]\n",
      "[2024-08-31 00:20:49,387 INFO : common : Created Directory at : artifacts/data_ingestion]\n",
      "[2024-08-31 00:20:49,389 INFO : 3709462476 : Downloading dat from https://drive.google.com/file/d/1Ri35otP5KdbnthLSfIAKRhyHUKKJjTSJ/view?usp=drive_link into file artifacts/data_ingestion/archive(6).zip]\n"
     ]
    },
    {
     "name": "stderr",
     "output_type": "stream",
     "text": [
      "Downloading...\n",
      "From (original): https://drive.google.com/uc?/export=download&id=1Ri35otP5KdbnthLSfIAKRhyHUKKJjTSJ\n",
      "From (redirected): https://drive.google.com/uc?%2Fexport=download&id=1Ri35otP5KdbnthLSfIAKRhyHUKKJjTSJ&confirm=t&uuid=9f8e9dd1-7fc4-4f2a-96b3-65cbf116a365\n",
      "To: C:\\Users\\aditi\\OneDrive\\Desktop\\Chest-Cancer-ML-OPS\\archive(6).zip\n",
      "100%|██████████| 124M/124M [00:25<00:00, 4.81MB/s] \n"
     ]
    },
    {
     "name": "stdout",
     "output_type": "stream",
     "text": [
      "[2024-08-31 00:21:21,866 INFO : 3709462476 : Downloaded data from https://drive.google.com/file/d/1Ri35otP5KdbnthLSfIAKRhyHUKKJjTSJ/view?usp=drive_link into file artifacts/data_ingestion/archive(6).zip]\n"
     ]
    }
   ],
   "source": [
    "try:\n",
    "    config = ConfigManager()\n",
    "    data_ingestion_config = config.get_data_ingestion_config()\n",
    "    data_ingestion = DataIngestion(config = data_ingestion_config)\n",
    "    data_ingestion.download_file()\n",
    "    data_ingestion.extract_zip_file()\n",
    "\n",
    "except Exception as e:\n",
    "    raise e"
   ]
  },
  {
   "cell_type": "code",
   "execution_count": null,
   "metadata": {},
   "outputs": [],
   "source": []
  }
 ],
 "metadata": {
  "kernelspec": {
   "display_name": "venv",
   "language": "python",
   "name": "python3"
  },
  "language_info": {
   "codemirror_mode": {
    "name": "ipython",
    "version": 3
   },
   "file_extension": ".py",
   "mimetype": "text/x-python",
   "name": "python",
   "nbconvert_exporter": "python",
   "pygments_lexer": "ipython3",
   "version": "3.11.4"
  }
 },
 "nbformat": 4,
 "nbformat_minor": 2
}
