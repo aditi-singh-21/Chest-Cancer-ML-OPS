{
 "cells": [
  {
   "cell_type": "code",
   "execution_count": 43,
   "metadata": {},
   "outputs": [],
   "source": [
    "import os\n",
    "%pwd\n",
    "new_directory = r\"C:\\Users\\aditi\\OneDrive\\Desktop\\Chest-Cancer-ML-OPS\"\n",
    "\n",
    "# Change the current working directory\n",
    "os.chdir(new_directory)"
   ]
  },
  {
   "cell_type": "code",
   "execution_count": 44,
   "metadata": {},
   "outputs": [
    {
     "data": {
      "text/plain": [
       "'C:\\\\Users\\\\aditi\\\\OneDrive\\\\Desktop\\\\Chest-Cancer-ML-OPS'"
      ]
     },
     "execution_count": 44,
     "metadata": {},
     "output_type": "execute_result"
    }
   ],
   "source": [
    "%pwd"
   ]
  },
  {
   "cell_type": "code",
   "execution_count": 45,
   "metadata": {},
   "outputs": [],
   "source": [
    "from dataclasses import dataclass\n",
    "from pathlib import Path\n",
    "\n",
    "@dataclass(frozen = True)\n",
    "class TrainModelConfig:\n",
    "    root_dir : Path\n",
    "    trained_model_path :Path\n",
    "    updated_base_model_path : Path\n",
    "    training_data : Path\n",
    "    epochs_params : int\n",
    "    batch_size_params : int\n",
    "    is_augmentation_params : bool\n",
    "    image_size_params : list\n",
    "    "
   ]
  },
  {
   "cell_type": "code",
   "execution_count": 46,
   "metadata": {},
   "outputs": [],
   "source": [
    "from chest_cancer_classifier.constants import *\n",
    "from chest_cancer_classifier.utils.common import read_yaml, create_dir\n",
    "import tensorflow as tf"
   ]
  },
  {
   "cell_type": "code",
   "execution_count": 47,
   "metadata": {},
   "outputs": [],
   "source": [
    "class ConfigManager:\n",
    "    def __init__(\n",
    "        self,\n",
    "        config_filepath = CONFIG_FILE_PATH,\n",
    "        param_filepath = PARAMS_FILE_PATH):\n",
    "        self.config = read_yaml(config_filepath)\n",
    "        self.params = read_yaml(param_filepath)\n",
    "        \n",
    "        create_dir([self.config.artifacts_root])\n",
    "        \n",
    "    def train_model_config(self) -> TrainModelConfig:\n",
    "        training = self.config.train_model\n",
    "        prepare_base_model = self.config.prepare_base_model\n",
    "        params = self.params\n",
    "        training_data = os.path.join(self.config.data_ingestion.unzip_dir,\"Data\\\\test\")\n",
    "        create_dir([Path(training.root_dir)])\n",
    "        \n",
    "        training_config = TrainModelConfig(\n",
    "            root_dir= Path(training.root_dir),\n",
    "            trained_model_path = Path(training.trained_model_path),\n",
    "            updated_base_model_path = Path(prepare_base_model.updated_base_model_path),\n",
    "            training_data=Path(training_data),\n",
    "            epochs_params=params.EPOCHS,\n",
    "            batch_size_params=params.BATCH_SIZE,\n",
    "            is_augmentation_params=params.AUGMENTATION,\n",
    "            image_size_params = params.IMAGE_SIZE,\n",
    "          \n",
    "        )\n",
    "        return training_config\n",
    "        "
   ]
  },
  {
   "cell_type": "code",
   "execution_count": 48,
   "metadata": {},
   "outputs": [],
   "source": [
    "import os\n",
    "import urllib.request as request\n",
    "from zipfile import ZipFile\n",
    "import tensorflow as tf\n",
    "import time"
   ]
  },
  {
   "cell_type": "code",
   "execution_count": 49,
   "metadata": {},
   "outputs": [],
   "source": [
    "import tensorflow as tf\n",
    "from pathlib import Path\n",
    "\n",
    "class Training:\n",
    "    def __init__(self, config: TrainModelConfig):\n",
    "        self.config = config\n",
    "        \n",
    "    def get_base_model(self):\n",
    "        self.model = tf.keras.models.load_model(\n",
    "            self.config.updated_base_model_path\n",
    "        )\n",
    "        \n",
    "    def train_valid_gen(self):\n",
    "        \n",
    "        datagen_kwargs = dict(\n",
    "            rescale=1./255,\n",
    "            validation_split=0.20\n",
    "        )\n",
    "        \n",
    "        dataflow_kwargs = dict(\n",
    "            target_size=self.config.image_size_params[:-1],\n",
    "            batch_size=self.config.batch_size_params,\n",
    "            interpolation=\"bilinear\"\n",
    "        )\n",
    "        \n",
    "        valid_data_gen = tf.keras.preprocessing.image.ImageDataGenerator(\n",
    "            **datagen_kwargs\n",
    "        )\n",
    "        \n",
    "        self.valid_gen = valid_data_gen.flow_from_directory(\n",
    "            directory=self.config.training_data,\n",
    "            subset=\"validation\",\n",
    "            shuffle=False,\n",
    "            **dataflow_kwargs\n",
    "        )\n",
    "        \n",
    "        if self.config.is_augmentation_params:\n",
    "            train_datagen = tf.keras.preprocessing.image.ImageDataGenerator(\n",
    "                rotation_range=40,\n",
    "                horizontal_flip=True,\n",
    "                width_shift_range=0.2,\n",
    "                height_shift_range=0.2,\n",
    "                shear_range=0.2,\n",
    "                zoom_range=0.2,\n",
    "                **datagen_kwargs\n",
    "            )\n",
    "        else:\n",
    "            train_datagen = valid_data_gen\n",
    "            \n",
    "        self.train_gen = train_datagen.flow_from_directory(\n",
    "            directory=self.config.training_data,\n",
    "            subset=\"training\",\n",
    "            shuffle=True,\n",
    "            **dataflow_kwargs\n",
    "        )\n",
    "        \n",
    "    @staticmethod\n",
    "    def save_model(path: Path, model: tf.keras.Model):\n",
    "        model.save(path)\n",
    "        \n",
    "    def train(self):\n",
    "        self.steps_per_epoch = self.train_gen.samples // self.train_gen.batch_size\n",
    "        self.validation_steps = self.valid_gen.samples // self.valid_gen.batch_size\n",
    "\n",
    "        # Callbacks for learning rate reduction and early stopping\n",
    "        lr_reduce = tf.keras.callbacks.ReduceLROnPlateau(\n",
    "            monitor='val_loss',\n",
    "            factor=0.5,\n",
    "            patience=2,\n",
    "            verbose=1\n",
    "        )\n",
    "\n",
    "        early_stop = tf.keras.callbacks.EarlyStopping(\n",
    "            monitor='val_loss',\n",
    "            patience=5,\n",
    "            verbose=1,\n",
    "            restore_best_weights=True\n",
    "        )\n",
    "\n",
    "        self.model.fit(\n",
    "            self.train_gen,\n",
    "            epochs=self.config.epochs_params,\n",
    "            steps_per_epoch=self.steps_per_epoch,\n",
    "            validation_steps=self.validation_steps,\n",
    "            validation_data=self.valid_gen,\n",
    "            callbacks=[lr_reduce, early_stop]\n",
    "        )\n",
    "        \n",
    "        self.save_model(\n",
    "            path=self.config.trained_model_path,\n",
    "            model=self.model\n",
    "        )\n"
   ]
  },
  {
   "cell_type": "code",
   "execution_count": 50,
   "metadata": {},
   "outputs": [
    {
     "name": "stdout",
     "output_type": "stream",
     "text": [
      "path C:\\Users\\aditi\\OneDrive\\Desktop\\Chest-Cancer-ML-OPS\\config\\config.yaml\n",
      "[2024-08-31 22:26:36,647 INFO : common : YAML file C:\\Users\\aditi\\OneDrive\\Desktop\\Chest-Cancer-ML-OPS\\config\\config.yaml successfully loaded]\n",
      "path C:\\Users\\aditi\\OneDrive\\Desktop\\Chest-Cancer-ML-OPS\\params.yaml\n",
      "[2024-08-31 22:26:36,656 INFO : common : YAML file C:\\Users\\aditi\\OneDrive\\Desktop\\Chest-Cancer-ML-OPS\\params.yaml successfully loaded]\n",
      "[2024-08-31 22:26:36,659 INFO : common : Created Directory at : artifacts]\n",
      "[2024-08-31 22:26:36,662 INFO : common : Created Directory at : artifacts\\training]\n",
      "Found 178 images belonging to 4 classes.\n",
      "Found 722 images belonging to 4 classes.\n",
      "45/45 [==============================] - 532s 12s/step - loss: 22.0031 - accuracy: 0.2960 - val_loss: 26.3293 - val_accuracy: 0.1818 - lr: 0.0100\n"
     ]
    }
   ],
   "source": [
    "try:\n",
    "    config= ConfigManager()\n",
    "    training_config = config.train_model_config()\n",
    "    training =Training(config = training_config)\n",
    "    training.get_base_model()\n",
    "    training.train_valid_gen()\n",
    "    training.train()\n",
    "except Exception as e:\n",
    "    raise e"
   ]
  },
  {
   "cell_type": "code",
   "execution_count": null,
   "metadata": {},
   "outputs": [],
   "source": []
  }
 ],
 "metadata": {
  "kernelspec": {
   "display_name": "venv",
   "language": "python",
   "name": "python3"
  },
  "language_info": {
   "codemirror_mode": {
    "name": "ipython",
    "version": 3
   },
   "file_extension": ".py",
   "mimetype": "text/x-python",
   "name": "python",
   "nbconvert_exporter": "python",
   "pygments_lexer": "ipython3",
   "version": "3.11.4"
  }
 },
 "nbformat": 4,
 "nbformat_minor": 2
}
