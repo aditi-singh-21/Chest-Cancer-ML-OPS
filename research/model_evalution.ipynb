{
 "cells": [
  {
   "cell_type": "code",
   "execution_count": 26,
   "metadata": {},
   "outputs": [],
   "source": [
    "import os\n",
    "%pwd\n",
    "new_directory = r\"C:\\Users\\aditi\\OneDrive\\Desktop\\Chest-Cancer-ML-OPS\"\n",
    "\n",
    "# Change the current working directory\n",
    "os.chdir(new_directory)"
   ]
  },
  {
   "cell_type": "code",
   "execution_count": 27,
   "metadata": {},
   "outputs": [
    {
     "data": {
      "text/plain": [
       "'C:\\\\Users\\\\aditi\\\\OneDrive\\\\Desktop\\\\Chest-Cancer-ML-OPS'"
      ]
     },
     "execution_count": 27,
     "metadata": {},
     "output_type": "execute_result"
    }
   ],
   "source": [
    "%pwd"
   ]
  },
  {
   "cell_type": "code",
   "execution_count": 28,
   "metadata": {},
   "outputs": [],
   "source": [
    "import os\n",
    "\n",
    "os.environ['MLFLOW_TRACKING_URL'] = \"https://dagshub.com/aditi-singh-21/Chest-Cancer-ML-OPS.mlflow/#/\"\n",
    "os.environ['MLFLOW_TRACKING_USERNAME'] = 'aditi-singh-21'\n",
    "os.environ['MLFLOW_TRACKING_PASSWORD'] = 'aditisingh2114@'\n"
   ]
  },
  {
   "cell_type": "code",
   "execution_count": 29,
   "metadata": {},
   "outputs": [],
   "source": [
    "import tensorflow as tf"
   ]
  },
  {
   "cell_type": "code",
   "execution_count": 30,
   "metadata": {},
   "outputs": [],
   "source": [
    "model = tf.keras.models.load_model(r\"C:\\Users\\aditi\\OneDrive\\Desktop\\Chest-Cancer-ML-OPS\\artifacts\\training\\model.h5\")"
   ]
  },
  {
   "cell_type": "code",
   "execution_count": 31,
   "metadata": {},
   "outputs": [],
   "source": [
    "from dataclasses import dataclass\n",
    "from pathlib import Path\n",
    "\n",
    "@dataclass(frozen = True)\n",
    "class EvaluationConfig:\n",
    "    path_of_model : Path\n",
    "    training_data : Path\n",
    "    all_params : dict\n",
    "    mlflow_url : str\n",
    "    image_size_params : list\n",
    "    batch_size_params : int"
   ]
  },
  {
   "cell_type": "code",
   "execution_count": 32,
   "metadata": {},
   "outputs": [],
   "source": [
    "from chest_cancer_classifier.constants import *\n",
    "from chest_cancer_classifier.utils.common import read_yaml,create_dir,save_json"
   ]
  },
  {
   "cell_type": "code",
   "execution_count": 33,
   "metadata": {},
   "outputs": [],
   "source": [
    "class ConfigManager:\n",
    "    def __init__(\n",
    "        self,\n",
    "        config_filepath = CONFIG_FILE_PATH,\n",
    "        param_filepath = PARAMS_FILE_PATH):\n",
    "        self.config = read_yaml(config_filepath)\n",
    "        self.params = read_yaml(param_filepath)\n",
    "        \n",
    "        create_dir([self.config.artifacts_root])\n",
    "        \n",
    "    def get_evaluation_config(self) -> EvaluationConfig:\n",
    "        eval_config = EvaluationConfig(\n",
    "            path_of_model=r\"C:\\Users\\aditi\\OneDrive\\Desktop\\Chest-Cancer-ML-OPS\\artifacts\\training\\model.h5\",\n",
    "            training_data=r\"C:\\Users\\aditi\\OneDrive\\Desktop\\Chest-Cancer-ML-OPS\\artifacts\\data_ingestion\\Data\\test\",\n",
    "            mlflow_url=\"https://dagshub.com/aditi-singh-21/Chest-Cancer-ML-OPS.mlflow/#/\",\n",
    "            all_params= self.params,\n",
    "            image_size_params=self.params.IMAGE_SIZE,\n",
    "            batch_size_params=self.params.BATCH_SIZE\n",
    "        )\n",
    "        return eval_config"
   ]
  },
  {
   "cell_type": "code",
   "execution_count": 34,
   "metadata": {},
   "outputs": [],
   "source": [
    "from pathlib import Path\n",
    "import mlflow\n",
    "import mlflow.keras\n",
    "from urllib.parse import urlparse"
   ]
  },
  {
   "cell_type": "code",
   "execution_count": 35,
   "metadata": {},
   "outputs": [],
   "source": [
    "class Evaluation:\n",
    "    def __init__(self,config : EvaluationConfig):\n",
    "        self.config = config\n",
    "        \n",
    "    def val_gen(self):\n",
    "         \n",
    "        datagenrator_kwargs = dict(\n",
    "            rescale = 1./255,\n",
    "            validation_split = 0.30\n",
    "        )   \n",
    "        \n",
    "        dataflow_kwargs = dict(\n",
    "            target_size=self.config.image_size_params[:-1],\n",
    "            batch_size=self.config.batch_size_params,\n",
    "            interpolation=\"bilinear\"\n",
    "        )\n",
    "        \n",
    "        valid_data_gen = tf.keras.preprocessing.image.ImageDataGenerator(\n",
    "            **datagenrator_kwargs\n",
    "        )\n",
    "        \n",
    "        self.valid_gen = valid_data_gen.flow_from_directory(\n",
    "            directory=self.config.training_data,\n",
    "            subset=\"validation\",\n",
    "            shuffle=False,\n",
    "            **dataflow_kwargs\n",
    "        )\n",
    "        \n",
    "    @staticmethod\n",
    "    def load_model(path: Path) -> tf.keras.Model:\n",
    "        return tf.keras.models.load_model(path)\n",
    "    \n",
    "    \n",
    "    def evaluation(self):\n",
    "        self.model = self.load_model(self.config.path_of_model)\n",
    "        self.val_gen()\n",
    "        self.score = model.evaluate(self.valid_gen)\n",
    "        self.save_score()\n",
    "        \n",
    "    def save_score(self):\n",
    "        scores = {\"loss\" : self.score[0] , \"accuracy\" : self.score[1]}\n",
    "        save_json(path=Path(\"scores.json\"),data = scores)\n",
    "        \n",
    "    def log_into_mlflow(self):\n",
    "        mlflow.set_registry_uri(self.config.mlflow_url)\n",
    "        tracking_url_type_store = urlparse(mlflow.get_tracking_uri()).scheme\n",
    "        \n",
    "        with mlflow.start_run():\n",
    "            mlflow.log_params(self.config.all_params)\n",
    "            mlflow.log_metrics(\n",
    "                {\"loss\" : self.score[0] , \"accuracy\" : self.score[1]}\n",
    "            )\n",
    "            \n",
    "            if tracking_url_type_store != \"file\":\n",
    "                mlflow.keras.log_model(self.model,\"model\",registered_model_name=\"VGG16Model\")\n",
    "            else:\n",
    "                mlflow.keras.log_model(self.model,\"model\")\n",
    "        \n",
    "        \n",
    "        "
   ]
  },
  {
   "cell_type": "code",
   "execution_count": 36,
   "metadata": {},
   "outputs": [
    {
     "name": "stdout",
     "output_type": "stream",
     "text": [
      "path C:\\Users\\aditi\\OneDrive\\Desktop\\Chest-Cancer-ML-OPS\\config\\config.yaml\n",
      "[2024-09-01 17:33:50,742 INFO : common : YAML file C:\\Users\\aditi\\OneDrive\\Desktop\\Chest-Cancer-ML-OPS\\config\\config.yaml successfully loaded]\n",
      "path C:\\Users\\aditi\\OneDrive\\Desktop\\Chest-Cancer-ML-OPS\\params.yaml\n",
      "[2024-09-01 17:33:50,746 INFO : common : YAML file C:\\Users\\aditi\\OneDrive\\Desktop\\Chest-Cancer-ML-OPS\\params.yaml successfully loaded]\n",
      "[2024-09-01 17:33:50,748 INFO : common : Created Directory at : artifacts]\n",
      "Found 267 images belonging to 4 classes.\n",
      "17/17 [==============================] - 97s 6s/step - loss: 26.8377 - accuracy: 0.1798\n",
      "[2024-09-01 17:35:28,886 INFO : common : json file saved at: scores.json]\n"
     ]
    },
    {
     "name": "stderr",
     "output_type": "stream",
     "text": [
      "2024/09/01 17:35:29 WARNING mlflow.tensorflow: You are saving a TensorFlow Core model or Keras model without a signature. Inference with mlflow.pyfunc.spark_udf() will not work unless the model's pyfunc representation accepts pandas DataFrames as inference inputs.\n"
     ]
    },
    {
     "name": "stdout",
     "output_type": "stream",
     "text": [
      "[2024-09-01 17:35:32,143 WARNING : save : Found untraced functions such as _jit_compiled_convolution_op, _jit_compiled_convolution_op, _jit_compiled_convolution_op, _jit_compiled_convolution_op, _jit_compiled_convolution_op while saving (showing 5 of 14). These functions will not be directly callable after loading.]\n",
      "INFO:tensorflow:Assets written to: C:\\Users\\aditi\\AppData\\Local\\Temp\\tmp1jj2vb4a\\model\\data\\model\\assets\n",
      "[2024-09-01 17:35:33,355 INFO : builder_impl : Assets written to: C:\\Users\\aditi\\AppData\\Local\\Temp\\tmp1jj2vb4a\\model\\data\\model\\assets]\n"
     ]
    },
    {
     "name": "stderr",
     "output_type": "stream",
     "text": [
      "2024/09/01 17:35:48 WARNING mlflow.models.model: Input example should be provided to infer model signature if the model signature is not provided when logging the model.\n"
     ]
    }
   ],
   "source": [
    "try:\n",
    "    config = ConfigManager()\n",
    "    eval_config = config.get_evaluation_config()\n",
    "    eval=Evaluation(eval_config)\n",
    "    eval.evaluation()\n",
    "    eval.log_into_mlflow()\n",
    "    \n",
    "except Exception as e:\n",
    "    raise e"
   ]
  }
 ],
 "metadata": {
  "kernelspec": {
   "display_name": "venv",
   "language": "python",
   "name": "python3"
  },
  "language_info": {
   "codemirror_mode": {
    "name": "ipython",
    "version": 3
   },
   "file_extension": ".py",
   "mimetype": "text/x-python",
   "name": "python",
   "nbconvert_exporter": "python",
   "pygments_lexer": "ipython3",
   "version": "3.11.4"
  }
 },
 "nbformat": 4,
 "nbformat_minor": 2
}
